{
 "cells": [
  {
   "cell_type": "markdown",
   "id": "f864f2f4",
   "metadata": {},
   "source": [
    "# 1. Accès aux données / Analyse globale"
   ]
  },
  {
   "cell_type": "markdown",
   "id": "a4e865b3",
   "metadata": {},
   "source": [
    "▪ Utilisez la bibliothèque pandas pour récupérer les données du fichier bird.csv. Vous pouvez préciser lors de la lecture quelle est la feature correspondant aux index (Cours - page 41)."
   ]
  },
  {
   "cell_type": "code",
   "execution_count": null,
   "id": "c93d8a5b",
   "metadata": {},
   "outputs": [],
   "source": [
    "import pandas as pd\n",
    "\n",
    "data = pd.read_csv(\"bird.csv\", index_col = \"id\")\n",
    "data"
   ]
  },
  {
   "cell_type": "markdown",
   "id": "b757f4e8",
   "metadata": {},
   "source": [
    "▪ Quelle est la taille du DataSet, et de quel type sont les variables, y a-t-il des informations manquantes."
   ]
  },
  {
   "cell_type": "code",
   "execution_count": 13,
   "id": "d47b646b",
   "metadata": {},
   "outputs": [
    {
     "data": {
      "text/plain": [
       "huml     float64\n",
       "humw     float64\n",
       "ulnal    float64\n",
       "ulnaw    float64\n",
       "feml     float64\n",
       "femw     float64\n",
       "tibl     float64\n",
       "tibw     float64\n",
       "tarl     float64\n",
       "tarw     float64\n",
       "type      object\n",
       "dtype: object"
      ]
     },
     "execution_count": 13,
     "metadata": {},
     "output_type": "execute_result"
    }
   ],
   "source": [
    "data.dtypes"
   ]
  },
  {
   "cell_type": "markdown",
   "id": "e440984a",
   "metadata": {},
   "source": [
    "▪ Supprimez les données manquantes. Combien reste-t-il de données dans le DataSet. En utilisant la fonction value_counts() sur la colonne (ou Series pour pandas) type comment se répartissent les 6 catégories."
   ]
  },
  {
   "cell_type": "code",
   "execution_count": 15,
   "id": "3ee26d81",
   "metadata": {},
   "outputs": [
    {
     "data": {
      "text/html": [
       "<div>\n",
       "<style scoped>\n",
       "    .dataframe tbody tr th:only-of-type {\n",
       "        vertical-align: middle;\n",
       "    }\n",
       "\n",
       "    .dataframe tbody tr th {\n",
       "        vertical-align: top;\n",
       "    }\n",
       "\n",
       "    .dataframe thead th {\n",
       "        text-align: right;\n",
       "    }\n",
       "</style>\n",
       "<table border=\"1\" class=\"dataframe\">\n",
       "  <thead>\n",
       "    <tr style=\"text-align: right;\">\n",
       "      <th></th>\n",
       "      <th>huml</th>\n",
       "      <th>humw</th>\n",
       "      <th>ulnal</th>\n",
       "      <th>ulnaw</th>\n",
       "      <th>feml</th>\n",
       "      <th>femw</th>\n",
       "      <th>tibl</th>\n",
       "      <th>tibw</th>\n",
       "      <th>tarl</th>\n",
       "      <th>tarw</th>\n",
       "      <th>type</th>\n",
       "    </tr>\n",
       "    <tr>\n",
       "      <th>id</th>\n",
       "      <th></th>\n",
       "      <th></th>\n",
       "      <th></th>\n",
       "      <th></th>\n",
       "      <th></th>\n",
       "      <th></th>\n",
       "      <th></th>\n",
       "      <th></th>\n",
       "      <th></th>\n",
       "      <th></th>\n",
       "      <th></th>\n",
       "    </tr>\n",
       "  </thead>\n",
       "  <tbody>\n",
       "    <tr>\n",
       "      <th>0</th>\n",
       "      <td>80.78</td>\n",
       "      <td>6.68</td>\n",
       "      <td>72.01</td>\n",
       "      <td>4.88</td>\n",
       "      <td>41.81</td>\n",
       "      <td>3.70</td>\n",
       "      <td>5.50</td>\n",
       "      <td>4.03</td>\n",
       "      <td>38.70</td>\n",
       "      <td>3.84</td>\n",
       "      <td>SW</td>\n",
       "    </tr>\n",
       "    <tr>\n",
       "      <th>1</th>\n",
       "      <td>88.91</td>\n",
       "      <td>6.63</td>\n",
       "      <td>80.53</td>\n",
       "      <td>5.59</td>\n",
       "      <td>47.04</td>\n",
       "      <td>4.30</td>\n",
       "      <td>80.22</td>\n",
       "      <td>4.51</td>\n",
       "      <td>41.50</td>\n",
       "      <td>4.01</td>\n",
       "      <td>SW</td>\n",
       "    </tr>\n",
       "    <tr>\n",
       "      <th>2</th>\n",
       "      <td>79.97</td>\n",
       "      <td>6.37</td>\n",
       "      <td>69.26</td>\n",
       "      <td>5.28</td>\n",
       "      <td>43.07</td>\n",
       "      <td>3.90</td>\n",
       "      <td>75.35</td>\n",
       "      <td>4.04</td>\n",
       "      <td>38.31</td>\n",
       "      <td>3.34</td>\n",
       "      <td>SW</td>\n",
       "    </tr>\n",
       "    <tr>\n",
       "      <th>3</th>\n",
       "      <td>77.65</td>\n",
       "      <td>5.70</td>\n",
       "      <td>65.76</td>\n",
       "      <td>4.77</td>\n",
       "      <td>40.04</td>\n",
       "      <td>3.52</td>\n",
       "      <td>69.17</td>\n",
       "      <td>3.40</td>\n",
       "      <td>35.78</td>\n",
       "      <td>3.41</td>\n",
       "      <td>SW</td>\n",
       "    </tr>\n",
       "    <tr>\n",
       "      <th>4</th>\n",
       "      <td>62.80</td>\n",
       "      <td>4.84</td>\n",
       "      <td>52.09</td>\n",
       "      <td>3.73</td>\n",
       "      <td>33.95</td>\n",
       "      <td>2.72</td>\n",
       "      <td>56.27</td>\n",
       "      <td>2.96</td>\n",
       "      <td>31.88</td>\n",
       "      <td>3.13</td>\n",
       "      <td>SW</td>\n",
       "    </tr>\n",
       "    <tr>\n",
       "      <th>...</th>\n",
       "      <td>...</td>\n",
       "      <td>...</td>\n",
       "      <td>...</td>\n",
       "      <td>...</td>\n",
       "      <td>...</td>\n",
       "      <td>...</td>\n",
       "      <td>...</td>\n",
       "      <td>...</td>\n",
       "      <td>...</td>\n",
       "      <td>...</td>\n",
       "      <td>...</td>\n",
       "    </tr>\n",
       "    <tr>\n",
       "      <th>415</th>\n",
       "      <td>17.96</td>\n",
       "      <td>1.63</td>\n",
       "      <td>19.25</td>\n",
       "      <td>1.33</td>\n",
       "      <td>18.36</td>\n",
       "      <td>1.54</td>\n",
       "      <td>31.25</td>\n",
       "      <td>1.33</td>\n",
       "      <td>21.99</td>\n",
       "      <td>1.15</td>\n",
       "      <td>SO</td>\n",
       "    </tr>\n",
       "    <tr>\n",
       "      <th>416</th>\n",
       "      <td>19.21</td>\n",
       "      <td>1.64</td>\n",
       "      <td>20.76</td>\n",
       "      <td>1.49</td>\n",
       "      <td>19.24</td>\n",
       "      <td>1.45</td>\n",
       "      <td>33.21</td>\n",
       "      <td>1.28</td>\n",
       "      <td>23.60</td>\n",
       "      <td>1.15</td>\n",
       "      <td>SO</td>\n",
       "    </tr>\n",
       "    <tr>\n",
       "      <th>417</th>\n",
       "      <td>18.79</td>\n",
       "      <td>1.63</td>\n",
       "      <td>19.83</td>\n",
       "      <td>1.53</td>\n",
       "      <td>20.96</td>\n",
       "      <td>1.43</td>\n",
       "      <td>34.45</td>\n",
       "      <td>1.41</td>\n",
       "      <td>22.86</td>\n",
       "      <td>1.21</td>\n",
       "      <td>SO</td>\n",
       "    </tr>\n",
       "    <tr>\n",
       "      <th>418</th>\n",
       "      <td>20.38</td>\n",
       "      <td>1.78</td>\n",
       "      <td>22.53</td>\n",
       "      <td>1.50</td>\n",
       "      <td>21.35</td>\n",
       "      <td>1.48</td>\n",
       "      <td>36.09</td>\n",
       "      <td>1.53</td>\n",
       "      <td>25.98</td>\n",
       "      <td>1.24</td>\n",
       "      <td>SO</td>\n",
       "    </tr>\n",
       "    <tr>\n",
       "      <th>419</th>\n",
       "      <td>17.89</td>\n",
       "      <td>1.44</td>\n",
       "      <td>19.26</td>\n",
       "      <td>1.10</td>\n",
       "      <td>17.62</td>\n",
       "      <td>1.34</td>\n",
       "      <td>29.81</td>\n",
       "      <td>1.24</td>\n",
       "      <td>21.69</td>\n",
       "      <td>1.05</td>\n",
       "      <td>SO</td>\n",
       "    </tr>\n",
       "  </tbody>\n",
       "</table>\n",
       "<p>413 rows × 11 columns</p>\n",
       "</div>"
      ],
      "text/plain": [
       "      huml  humw  ulnal  ulnaw   feml  femw   tibl  tibw   tarl  tarw type\n",
       "id                                                                        \n",
       "0    80.78  6.68  72.01   4.88  41.81  3.70   5.50  4.03  38.70  3.84   SW\n",
       "1    88.91  6.63  80.53   5.59  47.04  4.30  80.22  4.51  41.50  4.01   SW\n",
       "2    79.97  6.37  69.26   5.28  43.07  3.90  75.35  4.04  38.31  3.34   SW\n",
       "3    77.65  5.70  65.76   4.77  40.04  3.52  69.17  3.40  35.78  3.41   SW\n",
       "4    62.80  4.84  52.09   3.73  33.95  2.72  56.27  2.96  31.88  3.13   SW\n",
       "..     ...   ...    ...    ...    ...   ...    ...   ...    ...   ...  ...\n",
       "415  17.96  1.63  19.25   1.33  18.36  1.54  31.25  1.33  21.99  1.15   SO\n",
       "416  19.21  1.64  20.76   1.49  19.24  1.45  33.21  1.28  23.60  1.15   SO\n",
       "417  18.79  1.63  19.83   1.53  20.96  1.43  34.45  1.41  22.86  1.21   SO\n",
       "418  20.38  1.78  22.53   1.50  21.35  1.48  36.09  1.53  25.98  1.24   SO\n",
       "419  17.89  1.44  19.26   1.10  17.62  1.34  29.81  1.24  21.69  1.05   SO\n",
       "\n",
       "[413 rows x 11 columns]"
      ]
     },
     "execution_count": 15,
     "metadata": {},
     "output_type": "execute_result"
    }
   ],
   "source": [
    "data.dropna(inplace=True)\n",
    "data"
   ]
  },
  {
   "cell_type": "markdown",
   "id": "32765b2c",
   "metadata": {},
   "source": [
    "▪ A partir du DataSet créez un matrice X contenant les données d’entrée et une matrice Y contenant les différents types.\n"
   ]
  },
  {
   "cell_type": "code",
   "execution_count": null,
   "id": "a6590e2b",
   "metadata": {},
   "outputs": [],
   "source": [
    "X = data.drop(['type'], axis=1)\n",
    "Y = data['type']\n",
    "Y = pd.DataFrame(Y)"
   ]
  },
  {
   "cell_type": "markdown",
   "id": "208e6820",
   "metadata": {},
   "source": [
    "▪ Grâce à la fonction unique() sur des data récupérer la liste des différents type d’oiseaux."
   ]
  },
  {
   "cell_type": "code",
   "execution_count": 21,
   "id": "cb660a54",
   "metadata": {},
   "outputs": [
    {
     "data": {
      "text/plain": [
       "array(['SW', 'W', 'T', 'R', 'P', 'SO'], dtype=object)"
      ]
     },
     "execution_count": 21,
     "metadata": {},
     "output_type": "execute_result"
    }
   ],
   "source": [
    "Y = data['type']\n",
    "LO = Y.unique()\n",
    "LO"
   ]
  },
  {
   "cell_type": "markdown",
   "id": "dbf833c3",
   "metadata": {},
   "source": [
    "# 1. Découpage des données"
   ]
  },
  {
   "cell_type": "markdown",
   "id": "545a5d75",
   "metadata": {},
   "source": [
    "▪ Découpé le DataSet en deux DataSet pour l'apprentissage et le test. Vous utiliserez la classe train_test_split() de model_selection pour un découpage de 33% (test)."
   ]
  },
  {
   "cell_type": "code",
   "execution_count": 34,
   "id": "43e90cf3",
   "metadata": {},
   "outputs": [
    {
     "data": {
      "text/plain": [
       "(276, 10)"
      ]
     },
     "execution_count": 34,
     "metadata": {},
     "output_type": "execute_result"
    }
   ],
   "source": [
    "from sklearn.model_selection import train_test_split\n",
    "X = data.drop(['type'], axis=1)\n",
    "Y = data['type']\n",
    "X_train, X_test, Y_train, Y_test = train_test_split(X, Y, test_size=0.33, random_state=0)\n",
    "X_train.shape"
   ]
  },
  {
   "cell_type": "markdown",
   "id": "7daaaaa0",
   "metadata": {},
   "source": [
    "▪ Quel est la taille de vos données de test et de train."
   ]
  },
  {
   "cell_type": "markdown",
   "id": "fec8f7e4",
   "metadata": {},
   "source": [
    "▪ Calculez la répartition des différents types d’oiseaux entre le train et le test. Cette répartition est-elle acceptable."
   ]
  },
  {
   "cell_type": "code",
   "execution_count": 29,
   "id": "795cb66c",
   "metadata": {},
   "outputs": [],
   "source": [
    "ct_train = Y_train.value_counts()\n",
    "ct_test = Y_test.value_counts()"
   ]
  },
  {
   "cell_type": "code",
   "execution_count": 33,
   "id": "2f5afd7f",
   "metadata": {},
   "outputs": [
    {
     "data": {
      "text/html": [
       "<div>\n",
       "<style scoped>\n",
       "    .dataframe tbody tr th:only-of-type {\n",
       "        vertical-align: middle;\n",
       "    }\n",
       "\n",
       "    .dataframe tbody tr th {\n",
       "        vertical-align: top;\n",
       "    }\n",
       "\n",
       "    .dataframe thead th {\n",
       "        text-align: right;\n",
       "    }\n",
       "</style>\n",
       "<table border=\"1\" class=\"dataframe\">\n",
       "  <thead>\n",
       "    <tr style=\"text-align: right;\">\n",
       "      <th></th>\n",
       "      <th>train</th>\n",
       "      <th>test</th>\n",
       "      <th>%train</th>\n",
       "      <th>%test</th>\n",
       "    </tr>\n",
       "  </thead>\n",
       "  <tbody>\n",
       "    <tr>\n",
       "      <th>P</th>\n",
       "      <td>25</td>\n",
       "      <td>13</td>\n",
       "      <td>65.789474</td>\n",
       "      <td>34.210526</td>\n",
       "    </tr>\n",
       "    <tr>\n",
       "      <th>R</th>\n",
       "      <td>32</td>\n",
       "      <td>16</td>\n",
       "      <td>66.666667</td>\n",
       "      <td>33.333333</td>\n",
       "    </tr>\n",
       "    <tr>\n",
       "      <th>SO</th>\n",
       "      <td>84</td>\n",
       "      <td>40</td>\n",
       "      <td>67.741935</td>\n",
       "      <td>32.258065</td>\n",
       "    </tr>\n",
       "    <tr>\n",
       "      <th>SW</th>\n",
       "      <td>75</td>\n",
       "      <td>41</td>\n",
       "      <td>64.655172</td>\n",
       "      <td>35.344828</td>\n",
       "    </tr>\n",
       "    <tr>\n",
       "      <th>T</th>\n",
       "      <td>16</td>\n",
       "      <td>7</td>\n",
       "      <td>69.565217</td>\n",
       "      <td>30.434783</td>\n",
       "    </tr>\n",
       "    <tr>\n",
       "      <th>W</th>\n",
       "      <td>44</td>\n",
       "      <td>20</td>\n",
       "      <td>68.750000</td>\n",
       "      <td>31.250000</td>\n",
       "    </tr>\n",
       "  </tbody>\n",
       "</table>\n",
       "</div>"
      ],
      "text/plain": [
       "    train  test     %train      %test\n",
       "P      25    13  65.789474  34.210526\n",
       "R      32    16  66.666667  33.333333\n",
       "SO     84    40  67.741935  32.258065\n",
       "SW     75    41  64.655172  35.344828\n",
       "T      16     7  69.565217  30.434783\n",
       "W      44    20  68.750000  31.250000"
      ]
     },
     "execution_count": 33,
     "metadata": {},
     "output_type": "execute_result"
    }
   ],
   "source": [
    "result = pd.DataFrame({'train' : ct_train, 'test' : ct_test, '%train' : (ct_train/Y.value_counts())*100, '%test' : (ct_test/Y.value_counts())*100})\n",
    "result"
   ]
  },
  {
   "cell_type": "markdown",
   "id": "fa41c560",
   "metadata": {},
   "source": [
    "# 3. Modèle de KNN"
   ]
  },
  {
   "cell_type": "markdown",
   "id": "d52de2e1",
   "metadata": {},
   "source": [
    "▪ Créer un KNeighborsClassifier comme modèle d’apprentissage, en laissant le nombre de voisins à la valeur par défaut."
   ]
  },
  {
   "cell_type": "code",
   "execution_count": 35,
   "id": "2a682d8b",
   "metadata": {},
   "outputs": [
    {
     "data": {
      "text/plain": [
       "KNeighborsClassifier()"
      ]
     },
     "execution_count": 35,
     "metadata": {},
     "output_type": "execute_result"
    }
   ],
   "source": [
    "from sklearn.neighbors import KNeighborsClassifier\n",
    "knn = KNeighborsClassifier()\n",
    "knn.fit(X_train, Y_train)"
   ]
  },
  {
   "cell_type": "markdown",
   "id": "18aaa7a2",
   "metadata": {},
   "source": [
    "▪ Utiliser les fonctions d’apprentissage et de prédiction pour classer les oiseaux du data de test. Quel est le score obtenu."
   ]
  },
  {
   "cell_type": "code",
   "execution_count": 36,
   "id": "28c7ea4b",
   "metadata": {},
   "outputs": [
    {
     "data": {
      "text/plain": [
       "0.7226277372262774"
      ]
     },
     "execution_count": 36,
     "metadata": {},
     "output_type": "execute_result"
    }
   ],
   "source": [
    "Y_pred_knn = knn.predict(X_test)\n",
    "knn.score(X_test, Y_test)"
   ]
  },
  {
   "cell_type": "markdown",
   "id": "1a5f1c70",
   "metadata": {},
   "source": [
    "▪ Avec l’outil de confusion_matrix de la bibliothèque metrics affichez grâce à la fonction heatmap de seaborn la matrice de confusion obtenue à partir de la comparaison des sorties réelles des dates de tests et des sorties estimées."
   ]
  },
  {
   "cell_type": "code",
   "execution_count": 41,
   "id": "42528e3d",
   "metadata": {},
   "outputs": [
    {
     "data": {
      "text/plain": [
       "array([[29,  6,  1,  1,  2,  2],\n",
       "       [ 6,  7,  0,  3,  2,  2],\n",
       "       [ 0,  0,  5,  0,  2,  0],\n",
       "       [ 3,  0,  0, 11,  2,  0],\n",
       "       [ 0,  0,  1,  1,  8,  3],\n",
       "       [ 0,  0,  0,  0,  1, 39]])"
      ]
     },
     "execution_count": 41,
     "metadata": {},
     "output_type": "execute_result"
    }
   ],
   "source": [
    "from sklearn.metrics import confusion_matrix\n",
    "conf = confusion_matrix(Y_test, Y_pred_knn, labels=list(LO))\n",
    "conf"
   ]
  },
  {
   "cell_type": "code",
   "execution_count": 44,
   "id": "bfc8395e",
   "metadata": {},
   "outputs": [
    {
     "data": {
      "text/plain": [
       "<AxesSubplot:>"
      ]
     },
     "execution_count": 44,
     "metadata": {},
     "output_type": "execute_result"
    },
    {
     "data": {
      "image/png": "[encoded data removed]",
      "text/plain": [
       "<Figure size 640x480 with 1 Axes>"
      ]
     },
     "metadata": {},
     "output_type": "display_data"
    }
   ],
   "source": [
    "import seaborn as sns\n",
    "sns.heatmap(conf, annot=True, cbar=False, xticklabels=list(LO), yticklabels=list(LO))"
   ]
  },
  {
   "cell_type": "markdown",
   "id": "a5c90d04",
   "metadata": {},
   "source": [
    "▪ En faisant varier l’hyper paramètre n_neighbors entre les valeurs [1 à 15] quels sont les différents scores des modèles. Quel est la meilleure valeur de ce paramètre, ainsi que le score obtenu."
   ]
  },
  {
   "cell_type": "code",
   "execution_count": 46,
   "id": "d414a023",
   "metadata": {},
   "outputs": [
    {
     "data": {
      "text/plain": [
       "[<matplotlib.lines.Line2D at 0x7fd7d0100700>]"
      ]
     },
     "execution_count": 46,
     "metadata": {},
     "output_type": "execute_result"
    },
    {
     "data": {
      "image/png": "[encoded data removed]",
      "text/plain": [
       "<Figure size 640x480 with 1 Axes>"
      ]
     },
     "metadata": {},
     "output_type": "display_data"
    }
   ],
   "source": [
    "import matplotlib.pyplot as plt\n",
    "score = []\n",
    "for n in range(1, 25):\n",
    "    knn = KNeighborsClassifier(n_neighbors=n)\n",
    "    knn.fit(X_train, Y_train)\n",
    "    score.append(knn.score(X_test, Y_test))\n",
    "plt.plot(range(1, 25), score)"
   ]
  },
  {
   "cell_type": "code",
   "execution_count": 47,
   "id": "3ad4159f",
   "metadata": {},
   "outputs": [
    {
     "data": {
      "text/plain": [
       "0.8613138686131386"
      ]
     },
     "execution_count": 47,
     "metadata": {},
     "output_type": "execute_result"
    }
   ],
   "source": [
    "knn = KNeighborsClassifier(n_neighbors=1)\n",
    "knn.fit(X_train, Y_train)\n",
    "Y_pred_knn = knn.predict(X_test)\n",
    "knn.score(X_test, Y_test)"
   ]
  },
  {
   "cell_type": "code",
   "execution_count": 48,
   "id": "15c6b42b",
   "metadata": {},
   "outputs": [
    {
     "data": {
      "text/plain": [
       "<AxesSubplot:>"
      ]
     },
     "execution_count": 48,
     "metadata": {},
     "output_type": "execute_result"
    },
    {
     "data": {
      "image/png": "[encoded data removed]",
      "text/plain": [
       "<Figure size 640x480 with 1 Axes>"
      ]
     },
     "metadata": {},
     "output_type": "display_data"
    }
   ],
   "source": [
    "conf = confusion_matrix(Y_test, Y_pred_knn, labels=list(LO))\n",
    "sns.heatmap(conf, annot=True, cbar=False, xticklabels=list(LO), yticklabels=list(LO))"
   ]
  },
  {
   "cell_type": "code",
   "execution_count": null,
   "id": "0dc4b3a0",
   "metadata": {},
   "outputs": [],
   "source": []
  }
 ],
 "metadata": {
  "kernelspec": {
   "display_name": "Python 3 (ipykernel)",
   "language": "python",
   "name": "python3"
  },
  "language_info": {
   "codemirror_mode": {
    "name": "ipython",
    "version": 3
   },
   "file_extension": ".py",
   "mimetype": "text/x-python",
   "name": "python",
   "nbconvert_exporter": "python",
   "pygments_lexer": "ipython3",
   "version": "3.9.15"
  }
 },
 "nbformat": 4,
 "nbformat_minor": 5
}
